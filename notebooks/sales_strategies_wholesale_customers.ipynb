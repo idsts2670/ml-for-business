{
 "cells": [
  {
   "cell_type": "markdown",
   "metadata": {
    "colab_type": "text",
    "id": "ORsio2qVD3Rl"
   },
   "source": [
    "## sales_strategies_based_on_customer_segments"
   ]
  },
  {
   "cell_type": "markdown",
   "metadata": {
    "colab_type": "text",
    "id": "060CpHNuD3Rm"
   },
   "source": [
    "## Data Wrangling"
   ]
  },
  {
   "cell_type": "code",
   "execution_count": 1,
   "metadata": {
    "colab": {},
    "colab_type": "code",
    "id": "Lyt_vTxUD3Rq"
   },
   "outputs": [],
   "source": [
    "# Data Wrangling\n",
    "\n",
    "# disable warnings\n",
    "import warnings\n",
    "warnings.filterwarnings('ignore')\n",
    "\n",
    "# library import\n",
    "import pandas as pd\n",
    "import numpy as np\n",
    "import matplotlib.pyplot as plt\n",
    "\n",
    "# matplotlib jpn support\n",
    "import japanize_matplotlib\n",
    "\n",
    "# dataframe display function\n",
    "from IPython.display import display\n",
    "\n",
    "# diaply adjustment\n",
    "# numpy float display adjustment\n",
    "np.set_printoptions(suppress = True, precision = 4)\n",
    "\n",
    "# pandas float display adjustment\n",
    "pd.options.display.float_format = '{:.4f}'.format\n",
    "\n",
    "# show all columns of dataframe\n",
    "pd.set_option('display.max_columns', None)\n",
    "\n",
    "# default font\n",
    "plt.rcParams['font.size'] = 12\n",
    "\n",
    "# set random number\n",
    "random_seed = 123"
   ]
  },
  {
   "cell_type": "markdown",
   "metadata": {
    "colab_type": "text",
    "id": "HQlDUVzRD3Rs"
   },
   "source": [
    "### source\n",
    "Wholesale customers Data Set \n",
    "\n",
    "https://archive.ics.uci.edu/ml/datasets/wholesale+customers"
   ]
  },
  {
   "cell_type": "markdown",
   "metadata": {
    "colab_type": "text",
    "id": "iB_ocZwOD3Rt"
   },
   "source": [
    "## data import and verification"
   ]
  },
  {
   "cell_type": "code",
   "execution_count": 2,
   "metadata": {
    "colab": {},
    "colab_type": "code",
    "id": "TsPBG-ECD3Ru"
   },
   "outputs": [],
   "source": [
    "# data import\n",
    "url = 'https://archive.ics.uci.edu/ml/machine-learning-databases/00292/Wholesale%20customers%20data.csv'\n",
    "\n",
    "df = pd.read_csv(url)\n",
    "\n",
    "# change columns name into Japanese\n",
    "columns = ['販売チャネル', '地域', '生鮮食品', '乳製品', '食料品', \n",
    "    '冷凍食品', '洗剤_紙製品', '総菜']\n",
    "df.columns = columns"
   ]
  },
  {
   "cell_type": "code",
   "execution_count": 3,
   "metadata": {
    "colab": {
     "base_uri": "https://localhost:8080/",
     "height": 213
    },
    "colab_type": "code",
    "id": "gKvGiyRXD3Rw",
    "outputId": "fcc57a18-e2f1-44f1-d238-47dc58e2c32a"
   },
   "outputs": [
    {
     "data": {
      "text/html": [
       "<div>\n",
       "<style scoped>\n",
       "    .dataframe tbody tr th:only-of-type {\n",
       "        vertical-align: middle;\n",
       "    }\n",
       "\n",
       "    .dataframe tbody tr th {\n",
       "        vertical-align: top;\n",
       "    }\n",
       "\n",
       "    .dataframe thead th {\n",
       "        text-align: right;\n",
       "    }\n",
       "</style>\n",
       "<table border=\"1\" class=\"dataframe\">\n",
       "  <thead>\n",
       "    <tr style=\"text-align: right;\">\n",
       "      <th></th>\n",
       "      <th>販売チャネル</th>\n",
       "      <th>地域</th>\n",
       "      <th>生鮮食品</th>\n",
       "      <th>乳製品</th>\n",
       "      <th>食料品</th>\n",
       "      <th>冷凍食品</th>\n",
       "      <th>洗剤_紙製品</th>\n",
       "      <th>総菜</th>\n",
       "    </tr>\n",
       "  </thead>\n",
       "  <tbody>\n",
       "    <tr>\n",
       "      <th>0</th>\n",
       "      <td>2</td>\n",
       "      <td>3</td>\n",
       "      <td>12669</td>\n",
       "      <td>9656</td>\n",
       "      <td>7561</td>\n",
       "      <td>214</td>\n",
       "      <td>2674</td>\n",
       "      <td>1338</td>\n",
       "    </tr>\n",
       "    <tr>\n",
       "      <th>1</th>\n",
       "      <td>2</td>\n",
       "      <td>3</td>\n",
       "      <td>7057</td>\n",
       "      <td>9810</td>\n",
       "      <td>9568</td>\n",
       "      <td>1762</td>\n",
       "      <td>3293</td>\n",
       "      <td>1776</td>\n",
       "    </tr>\n",
       "    <tr>\n",
       "      <th>2</th>\n",
       "      <td>2</td>\n",
       "      <td>3</td>\n",
       "      <td>6353</td>\n",
       "      <td>8808</td>\n",
       "      <td>7684</td>\n",
       "      <td>2405</td>\n",
       "      <td>3516</td>\n",
       "      <td>7844</td>\n",
       "    </tr>\n",
       "    <tr>\n",
       "      <th>3</th>\n",
       "      <td>1</td>\n",
       "      <td>3</td>\n",
       "      <td>13265</td>\n",
       "      <td>1196</td>\n",
       "      <td>4221</td>\n",
       "      <td>6404</td>\n",
       "      <td>507</td>\n",
       "      <td>1788</td>\n",
       "    </tr>\n",
       "    <tr>\n",
       "      <th>4</th>\n",
       "      <td>2</td>\n",
       "      <td>3</td>\n",
       "      <td>22615</td>\n",
       "      <td>5410</td>\n",
       "      <td>7198</td>\n",
       "      <td>3915</td>\n",
       "      <td>1777</td>\n",
       "      <td>5185</td>\n",
       "    </tr>\n",
       "  </tbody>\n",
       "</table>\n",
       "</div>"
      ],
      "text/plain": [
       "   販売チャネル  地域   生鮮食品   乳製品   食料品  冷凍食品  洗剤_紙製品    総菜\n",
       "0       2   3  12669  9656  7561   214    2674  1338\n",
       "1       2   3   7057  9810  9568  1762    3293  1776\n",
       "2       2   3   6353  8808  7684  2405    3516  7844\n",
       "3       1   3  13265  1196  4221  6404     507  1788\n",
       "4       2   3  22615  5410  7198  3915    1777  5185"
      ]
     },
     "metadata": {},
     "output_type": "display_data"
    },
    {
     "name": "stdout",
     "output_type": "stream",
     "text": [
      "(440, 8)\n"
     ]
    }
   ],
   "source": [
    "# data shape\n",
    "display(df.head())\n",
    "\n",
    "# sample data\n",
    "print(df.shape)"
   ]
  },
  {
   "cell_type": "code",
   "execution_count": 5,
   "metadata": {
    "colab": {
     "base_uri": "https://localhost:8080/",
     "height": 175
    },
    "colab_type": "code",
    "id": "Z1WIzw_tD3Rz",
    "outputId": "896dd8bc-e617-42c9-e9b8-85233b1dcc13"
   },
   "outputs": [
    {
     "name": "stdout",
     "output_type": "stream",
     "text": [
      "販売チャネル    0\n",
      "地域        0\n",
      "生鮮食品      0\n",
      "乳製品       0\n",
      "食料品       0\n",
      "冷凍食品      0\n",
      "洗剤_紙製品    0\n",
      "総菜        0\n",
      "dtype: int64\n"
     ]
    }
   ],
   "source": [
    "# missing value\n",
    "print(df.isnull().sum())"
   ]
  },
  {
   "cell_type": "code",
   "execution_count": 6,
   "metadata": {
    "colab": {
     "base_uri": "https://localhost:8080/",
     "height": 158
    },
    "colab_type": "code",
    "id": "j-2hfTBnD3R1",
    "outputId": "ac0d6861-0ed7-406d-d5d5-f57bffeb4eaa"
   },
   "outputs": [
    {
     "name": "stdout",
     "output_type": "stream",
     "text": [
      "1    298\n",
      "2    142\n",
      "Name: 販売チャネル, dtype: int64\n",
      "\n",
      "3    316\n",
      "1     77\n",
      "2     47\n",
      "Name: 地域, dtype: int64\n"
     ]
    }
   ],
   "source": [
    "# check the sales channel code\n",
    "print(df['販売チャネル'].value_counts())\n",
    "print()\n",
    "\n",
    "# area code\n",
    "print(df['地域'].value_counts())"
   ]
  },
  {
   "cell_type": "markdown",
   "metadata": {
    "colab_type": "text",
    "id": "zSMqakKJD3R3"
   },
   "source": [
    "#### 販売チャネルのコード値の意味\n",
    "1.  Horeca(ホテル・レストラン・カフェ) 298 \n",
    "2. Retail(小売り) 142 "
   ]
  },
  {
   "cell_type": "markdown",
   "metadata": {
    "colab_type": "text",
    "id": "aLARYhrsD3R4"
   },
   "source": [
    "#### 地域のコード値の意味\n",
    "1.  Lisbon(リスボン) 77 \n",
    "2. Oporto(オプルトまたはポルト) 47 \n",
    "3. Other Region(その他) 316 \n",
    "\n"
   ]
  },
  {
   "cell_type": "markdown",
   "metadata": {
    "colab_type": "text",
    "id": "wS0QnunZD3R4"
   },
   "source": [
    "### histogram"
   ]
  },
  {
   "cell_type": "code",
   "execution_count": 7,
   "metadata": {
    "colab": {
     "base_uri": "https://localhost:8080/",
     "height": 577
    },
    "colab_type": "code",
    "id": "e7El541nD3R5",
    "outputId": "c2a62863-b9c4-4808-d124-bf8d480d3579",
    "scrolled": false
   },
   "outputs": [
    {
     "data": {
      "image/png": "[encoded data removed]",
      "text/plain": [
       "<Figure size 576x576 with 6 Axes>"
      ]
     },
     "metadata": {
      "needs_background": "light"
     },
     "output_type": "display_data"
    }
   ],
   "source": [
    "# drop `販売チャネル` and `地域`\n",
    "df2 = df.drop(['販売チャネル', '地域'], axis=1)\n",
    "\n",
    "# histogram\n",
    "from pylab import rcParams\n",
    "rcParams['figure.figsize'] = (8, 8)\n",
    "df2.hist(bins=20)\n",
    "plt.tight_layout() \n",
    "plt.show()"
   ]
  },
  {
   "cell_type": "markdown",
   "metadata": {
    "colab_type": "text",
    "id": "qI5f31AtD3R7"
   },
   "source": [
    "## clustering"
   ]
  },
  {
   "cell_type": "code",
   "execution_count": 8,
   "metadata": {
    "colab": {},
    "colab_type": "code",
    "id": "CfEPfY8cD3R7"
   },
   "outputs": [],
   "source": [
    "# no need of data preprocessing and data split\n",
    "\n",
    "# algorithm selection\n",
    "from sklearn.cluster import KMeans\n",
    "\n",
    "# set groups number\n",
    "clusters=4\n",
    "\n",
    "# define algorithm\n",
    "algorithm = KMeans(n_clusters=clusters, \n",
    "    random_state=random_seed)"
   ]
  },
  {
   "cell_type": "code",
   "execution_count": 9,
   "metadata": {
    "colab": {
     "base_uri": "https://localhost:8080/",
     "height": 34
    },
    "colab_type": "code",
    "id": "xfGbHcwoD3R9",
    "outputId": "eb987da4-502b-40a2-8b9a-e4a5a4d52dd2"
   },
   "outputs": [
    {
     "name": "stdout",
     "output_type": "stream",
     "text": [
      "[1 2 1 1 0 1 1 1 1 2 2 1 0 2 0 1 2 1 1 1]\n"
     ]
    }
   ],
   "source": [
    "# learning and prediction\n",
    "y_pred = algorithm.fit_predict(df2)\n",
    "\n",
    "# result\n",
    "print(y_pred[:20])"
   ]
  },
  {
   "cell_type": "markdown",
   "metadata": {
    "colab_type": "text",
    "id": "mZxGwWUDD3R_"
   },
   "source": [
    "### results of clustering"
   ]
  },
  {
   "cell_type": "markdown",
   "metadata": {
    "colab_type": "text",
    "id": "vPbPUf85D3R_"
   },
   "source": [
    "#### average by group"
   ]
  },
  {
   "cell_type": "code",
   "execution_count": 10,
   "metadata": {
    "colab": {
     "base_uri": "https://localhost:8080/",
     "height": 166
    },
    "colab_type": "code",
    "id": "q24sMbpvD3SA",
    "outputId": "1cc190f4-6a8d-4b10-a826-1fcd42ae80ac"
   },
   "outputs": [
    {
     "data": {
      "text/html": [
       "<div>\n",
       "<style scoped>\n",
       "    .dataframe tbody tr th:only-of-type {\n",
       "        vertical-align: middle;\n",
       "    }\n",
       "\n",
       "    .dataframe tbody tr th {\n",
       "        vertical-align: top;\n",
       "    }\n",
       "\n",
       "    .dataframe thead th {\n",
       "        text-align: right;\n",
       "    }\n",
       "</style>\n",
       "<table border=\"1\" class=\"dataframe\">\n",
       "  <thead>\n",
       "    <tr style=\"text-align: right;\">\n",
       "      <th></th>\n",
       "      <th>生鮮食品</th>\n",
       "      <th>乳製品</th>\n",
       "      <th>食料品</th>\n",
       "      <th>冷凍食品</th>\n",
       "      <th>洗剤_紙製品</th>\n",
       "      <th>総菜</th>\n",
       "    </tr>\n",
       "  </thead>\n",
       "  <tbody>\n",
       "    <tr>\n",
       "      <th>0</th>\n",
       "      <td>36144.4828</td>\n",
       "      <td>5471.4655</td>\n",
       "      <td>6128.7931</td>\n",
       "      <td>6298.6552</td>\n",
       "      <td>1064.0000</td>\n",
       "      <td>2316.7241</td>\n",
       "    </tr>\n",
       "    <tr>\n",
       "      <th>1</th>\n",
       "      <td>9087.4638</td>\n",
       "      <td>3027.4275</td>\n",
       "      <td>3753.5145</td>\n",
       "      <td>2817.9855</td>\n",
       "      <td>1003.0036</td>\n",
       "      <td>1040.5254</td>\n",
       "    </tr>\n",
       "    <tr>\n",
       "      <th>2</th>\n",
       "      <td>4808.8421</td>\n",
       "      <td>10525.0105</td>\n",
       "      <td>16909.7895</td>\n",
       "      <td>1462.5895</td>\n",
       "      <td>7302.4000</td>\n",
       "      <td>1650.8842</td>\n",
       "    </tr>\n",
       "    <tr>\n",
       "      <th>3</th>\n",
       "      <td>19888.2727</td>\n",
       "      <td>36142.3636</td>\n",
       "      <td>45517.4545</td>\n",
       "      <td>6328.9091</td>\n",
       "      <td>21417.0909</td>\n",
       "      <td>8414.0000</td>\n",
       "    </tr>\n",
       "  </tbody>\n",
       "</table>\n",
       "</div>"
      ],
      "text/plain": [
       "        生鮮食品        乳製品        食料品      冷凍食品     洗剤_紙製品        総菜\n",
       "0 36144.4828  5471.4655  6128.7931 6298.6552  1064.0000 2316.7241\n",
       "1  9087.4638  3027.4275  3753.5145 2817.9855  1003.0036 1040.5254\n",
       "2  4808.8421 10525.0105 16909.7895 1462.5895  7302.4000 1650.8842\n",
       "3 19888.2727 36142.3636 45517.4545 6328.9091 21417.0909 8414.0000"
      ]
     },
     "metadata": {},
     "output_type": "display_data"
    }
   ],
   "source": [
    "# average by group\n",
    "df_cluster = df2.groupby(y_pred).mean()\n",
    "display(df_cluster)"
   ]
  },
  {
   "cell_type": "markdown",
   "metadata": {
    "colab_type": "text",
    "id": "eKzdYkL8D3SC"
   },
   "source": [
    "#### barplot by group"
   ]
  },
  {
   "cell_type": "code",
   "execution_count": 11,
   "metadata": {
    "colab": {
     "base_uri": "https://localhost:8080/",
     "height": 373
    },
    "colab_type": "code",
    "id": "wVb9iCt0D3SC",
    "outputId": "8058c1e3-92c7-4ec9-fb85-172ac4d14a41"
   },
   "outputs": [
    {
     "data": {
      "image/png": "[encoded data removed]",
      "text/plain": [
       "<Figure size 720x432 with 1 Axes>"
      ]
     },
     "metadata": {
      "needs_background": "light"
     },
     "output_type": "display_data"
    }
   ],
   "source": [
    "# bar plot by group\n",
    "df_cluster.plot(kind='bar',stacked=True,\n",
    "    figsize=(10, 6),colormap='jet')\n",
    "plt.show()"
   ]
  },
  {
   "cell_type": "markdown",
   "metadata": {
    "colab_type": "text",
    "id": "eFg89g0wD3SE"
   },
   "source": [
    "#### 分析結果\n",
    "\n",
    "* **0**: 生鮮食品中心\n",
    "* **1**: 少量購入\n",
    "* **2**: 食料品中心\n",
    "* **3**: 大量購入"
   ]
  },
  {
   "cell_type": "markdown",
   "metadata": {
    "colab_type": "text",
    "id": "QGmD9ipaD3SF"
   },
   "source": [
    "#### relationship of clusters to sales channels & area"
   ]
  },
  {
   "cell_type": "code",
   "execution_count": 13,
   "metadata": {
    "colab": {
     "base_uri": "https://localhost:8080/",
     "height": 887
    },
    "colab_type": "code",
    "id": "vzq4FBEHD3SF",
    "outputId": "0495656b-b77e-4285-a952-0adb33d9283e",
    "scrolled": false
   },
   "outputs": [
    {
     "name": "stdout",
     "output_type": "stream",
     "text": [
      "==== Group0 ====\n"
     ]
    },
    {
     "data": {
      "image/png": "[encoded data removed]",
      "text/plain": [
       "<Figure size 432x216 with 2 Axes>"
      ]
     },
     "metadata": {
      "needs_background": "light"
     },
     "output_type": "display_data"
    },
    {
     "name": "stdout",
     "output_type": "stream",
     "text": [
      "==== Group1 ====\n"
     ]
    },
    {
     "data": {
      "image/png": "[encoded data removed]",
      "text/plain": [
       "<Figure size 432x216 with 2 Axes>"
      ]
     },
     "metadata": {
      "needs_background": "light"
     },
     "output_type": "display_data"
    },
    {
     "name": "stdout",
     "output_type": "stream",
     "text": [
      "==== Group2 ====\n"
     ]
    },
    {
     "data": {
      "image/png": "[encoded data removed]",
      "text/plain": [
       "<Figure size 432x216 with 2 Axes>"
      ]
     },
     "metadata": {
      "needs_background": "light"
     },
     "output_type": "display_data"
    },
    {
     "name": "stdout",
     "output_type": "stream",
     "text": [
      "==== Group3 ====\n"
     ]
    },
    {
     "data": {
      "image/png": "[encoded data removed]",
      "text/plain": [
       "<Figure size 432x216 with 2 Axes>"
      ]
     },
     "metadata": {
      "needs_background": "light"
     },
     "output_type": "display_data"
    }
   ],
   "source": [
    "# check the relationship of each groups to sales_channels and area\n",
    "\n",
    "# extract `販売チャネル` and `area`\n",
    "df3 = df[['販売チャネル', '地域']]\n",
    "\n",
    "# graph size\n",
    "rcParams['figure.figsize'] = (6,3)\n",
    "\n",
    "# graph display by group\n",
    "for i in range(clusters):\n",
    "    fig, ax = plt.subplots()\n",
    "    w = df3[y_pred==i]\n",
    "    print(f'==== Group{i} ====')\n",
    "    w.hist(ax=ax)\n",
    "    plt.tight_layout()\n",
    "    plt.show()"
   ]
  },
  {
   "cell_type": "markdown",
   "metadata": {
    "colab_type": "text",
    "id": "z3iYpMSZD3SH"
   },
   "source": [
    "#### 分析結果\n",
    "グループ0(生鮮)とグループ1(少量)は、チャネル1(Horeca)と関連が深い。   \n",
    "グループ2(食品)とグループ3(大量)は、チャネル2(Retail)と関連が深い。  \n",
    "地域とグループの関連は時に見いだせない。"
   ]
  },
  {
   "cell_type": "markdown",
   "metadata": {
    "colab_type": "text",
    "id": "kPwgiwbtD3SI"
   },
   "source": [
    "## dimensionality reduction"
   ]
  },
  {
   "cell_type": "code",
   "execution_count": 14,
   "metadata": {
    "colab": {},
    "colab_type": "code",
    "id": "clpaya39D3SI"
   },
   "outputs": [],
   "source": [
    "# algorithm selection\n",
    "from sklearn.decomposition import PCA\n",
    "\n",
    "# model generation\n",
    "# reduce the dimension to 2D for scatter plot\n",
    "pca = PCA(n_components=2)"
   ]
  },
  {
   "cell_type": "code",
   "execution_count": 15,
   "metadata": {
    "colab": {
     "base_uri": "https://localhost:8080/",
     "height": 105
    },
    "colab_type": "code",
    "id": "obiGfHi0D3SK",
    "outputId": "12142fe3-6ff5-4ae5-9841-4c7391d428f6"
   },
   "outputs": [
    {
     "name": "stdout",
     "output_type": "stream",
     "text": [
      "[[  650.0221  1585.5191]\n",
      " [-4426.805   4042.4515]\n",
      " [-4841.9987  2578.7622]\n",
      " [  990.3464 -6279.806 ]\n",
      " [10657.9987 -2159.7258]]\n"
     ]
    }
   ],
   "source": [
    "# learning and transforming\n",
    "d2 = pca.fit_transform(df2)\n",
    "\n",
    "# results\n",
    "print(d2[:5,:])"
   ]
  },
  {
   "cell_type": "markdown",
   "metadata": {
    "colab_type": "text",
    "id": "9O5StcBGD3SM"
   },
   "source": [
    "### application of dimensionality reduction"
   ]
  },
  {
   "cell_type": "markdown",
   "metadata": {
    "colab_type": "text",
    "id": "ceborIy5D3SM"
   },
   "source": [
    "#### scatter plot"
   ]
  },
  {
   "cell_type": "code",
   "execution_count": 16,
   "metadata": {
    "colab": {
     "base_uri": "https://localhost:8080/",
     "height": 486
    },
    "colab_type": "code",
    "id": "DFOj2JT-D3SN",
    "outputId": "56d1ed99-e0b2-4d8e-9150-4ed20d0dd64a"
   },
   "outputs": [
    {
     "data": {
      "image/png": "[encoded data removed]",
      "text/plain": [
       "<Figure size 576x576 with 1 Axes>"
      ]
     },
     "metadata": {
      "needs_background": "light"
     },
     "output_type": "display_data"
    }
   ],
   "source": [
    "# scatter plot by group\n",
    "\n",
    "plt.figure(figsize=(8,8))\n",
    "marks = ['.', 'x', '*', '+']\n",
    "labels = ['生鮮', '少量', '食品', '大量']\n",
    "colors = ['grey', 'lightblue', 'blue', 'black']\n",
    "for i in range(clusters):\n",
    "  plt.scatter(d2[y_pred==i][:,0], d2[y_pred==i][:,1], \n",
    "    marker=marks[i], label=labels[i], s=100, c=colors[i])\n",
    "plt.legend(fontsize=14)\n",
    "plt.show()"
   ]
  },
  {
   "cell_type": "markdown",
   "metadata": {
    "colab_type": "text",
    "id": "xSroAT7PD3SP"
   },
   "source": [
    "#### outlier analysis"
   ]
  },
  {
   "cell_type": "code",
   "execution_count": 17,
   "metadata": {
    "colab": {
     "base_uri": "https://localhost:8080/",
     "height": 77
    },
    "colab_type": "code",
    "id": "ygbDqd_lD3SQ",
    "outputId": "e75d96d3-337a-4f63-bf2c-834c604e1706"
   },
   "outputs": [
    {
     "data": {
      "text/html": [
       "<div>\n",
       "<style scoped>\n",
       "    .dataframe tbody tr th:only-of-type {\n",
       "        vertical-align: middle;\n",
       "    }\n",
       "\n",
       "    .dataframe tbody tr th {\n",
       "        vertical-align: top;\n",
       "    }\n",
       "\n",
       "    .dataframe thead th {\n",
       "        text-align: right;\n",
       "    }\n",
       "</style>\n",
       "<table border=\"1\" class=\"dataframe\">\n",
       "  <thead>\n",
       "    <tr style=\"text-align: right;\">\n",
       "      <th></th>\n",
       "      <th>販売チャネル</th>\n",
       "      <th>地域</th>\n",
       "      <th>生鮮食品</th>\n",
       "      <th>乳製品</th>\n",
       "      <th>食料品</th>\n",
       "      <th>冷凍食品</th>\n",
       "      <th>洗剤_紙製品</th>\n",
       "      <th>総菜</th>\n",
       "    </tr>\n",
       "  </thead>\n",
       "  <tbody>\n",
       "    <tr>\n",
       "      <th>181</th>\n",
       "      <td>1</td>\n",
       "      <td>3</td>\n",
       "      <td>112151</td>\n",
       "      <td>29627</td>\n",
       "      <td>18148</td>\n",
       "      <td>16745</td>\n",
       "      <td>4948</td>\n",
       "      <td>8550</td>\n",
       "    </tr>\n",
       "  </tbody>\n",
       "</table>\n",
       "</div>"
      ],
      "text/plain": [
       "     販売チャネル  地域    生鮮食品    乳製品    食料品   冷凍食品  洗剤_紙製品    総菜\n",
       "181       1   3  112151  29627  18148  16745    4948  8550"
      ]
     },
     "metadata": {},
     "output_type": "display_data"
    }
   ],
   "source": [
    "# check the outliers of 生鮮グループ\n",
    "display(df[d2[:,0] > 100000])"
   ]
  },
  {
   "cell_type": "markdown",
   "metadata": {
    "colab_type": "text",
    "id": "S7SvVzFBD3SR"
   },
   "source": [
    "[Disucission]\\\n",
    "customer with index 181 especially purchases `生鮮食品`"
   ]
  },
  {
   "cell_type": "code",
   "execution_count": null,
   "metadata": {
    "colab": {
     "base_uri": "https://localhost:8080/",
     "height": 77
    },
    "colab_type": "code",
    "id": "1aNy2yJVD3SS",
    "outputId": "df28c201-d4bc-4db2-9387-bb7a645a9b26"
   },
   "outputs": [],
   "source": [
    "# check the outliers of 大量グループ\n",
    "display(df[d2[:,1] > 80000])"
   ]
  },
  {
   "cell_type": "markdown",
   "metadata": {
    "colab_type": "text",
    "id": "J6jV6-4HD3SU"
   },
   "source": [
    "[Discussion]\\\n",
    "customer with index 85 especially purchase `食料品` and `洗剤・紙製品`"
   ]
  },
  {
   "cell_type": "code",
   "execution_count": 18,
   "metadata": {
    "colab": {
     "base_uri": "https://localhost:8080/",
     "height": 284
    },
    "colab_type": "code",
    "id": "zgOgOJfhD3SU",
    "outputId": "e5c7fafd-3915-47d9-ff08-db1aa6c338b5"
   },
   "outputs": [
    {
     "data": {
      "text/html": [
       "<div>\n",
       "<style scoped>\n",
       "    .dataframe tbody tr th:only-of-type {\n",
       "        vertical-align: middle;\n",
       "    }\n",
       "\n",
       "    .dataframe tbody tr th {\n",
       "        vertical-align: top;\n",
       "    }\n",
       "\n",
       "    .dataframe thead th {\n",
       "        text-align: right;\n",
       "    }\n",
       "</style>\n",
       "<table border=\"1\" class=\"dataframe\">\n",
       "  <thead>\n",
       "    <tr style=\"text-align: right;\">\n",
       "      <th></th>\n",
       "      <th>生鮮食品</th>\n",
       "      <th>乳製品</th>\n",
       "      <th>食料品</th>\n",
       "      <th>冷凍食品</th>\n",
       "      <th>洗剤_紙製品</th>\n",
       "      <th>総菜</th>\n",
       "    </tr>\n",
       "  </thead>\n",
       "  <tbody>\n",
       "    <tr>\n",
       "      <th>count</th>\n",
       "      <td>440.0000</td>\n",
       "      <td>440.0000</td>\n",
       "      <td>440.0000</td>\n",
       "      <td>440.0000</td>\n",
       "      <td>440.0000</td>\n",
       "      <td>440.0000</td>\n",
       "    </tr>\n",
       "    <tr>\n",
       "      <th>mean</th>\n",
       "      <td>12000.2977</td>\n",
       "      <td>5796.2659</td>\n",
       "      <td>7951.2773</td>\n",
       "      <td>3071.9318</td>\n",
       "      <td>2881.4932</td>\n",
       "      <td>1524.8705</td>\n",
       "    </tr>\n",
       "    <tr>\n",
       "      <th>std</th>\n",
       "      <td>12647.3289</td>\n",
       "      <td>7380.3772</td>\n",
       "      <td>9503.1628</td>\n",
       "      <td>4854.6733</td>\n",
       "      <td>4767.8544</td>\n",
       "      <td>2820.1059</td>\n",
       "    </tr>\n",
       "    <tr>\n",
       "      <th>min</th>\n",
       "      <td>3.0000</td>\n",
       "      <td>55.0000</td>\n",
       "      <td>3.0000</td>\n",
       "      <td>25.0000</td>\n",
       "      <td>3.0000</td>\n",
       "      <td>3.0000</td>\n",
       "    </tr>\n",
       "    <tr>\n",
       "      <th>25%</th>\n",
       "      <td>3127.7500</td>\n",
       "      <td>1533.0000</td>\n",
       "      <td>2153.0000</td>\n",
       "      <td>742.2500</td>\n",
       "      <td>256.7500</td>\n",
       "      <td>408.2500</td>\n",
       "    </tr>\n",
       "    <tr>\n",
       "      <th>50%</th>\n",
       "      <td>8504.0000</td>\n",
       "      <td>3627.0000</td>\n",
       "      <td>4755.5000</td>\n",
       "      <td>1526.0000</td>\n",
       "      <td>816.5000</td>\n",
       "      <td>965.5000</td>\n",
       "    </tr>\n",
       "    <tr>\n",
       "      <th>75%</th>\n",
       "      <td>16933.7500</td>\n",
       "      <td>7190.2500</td>\n",
       "      <td>10655.7500</td>\n",
       "      <td>3554.2500</td>\n",
       "      <td>3922.0000</td>\n",
       "      <td>1820.2500</td>\n",
       "    </tr>\n",
       "    <tr>\n",
       "      <th>max</th>\n",
       "      <td>112151.0000</td>\n",
       "      <td>73498.0000</td>\n",
       "      <td>92780.0000</td>\n",
       "      <td>60869.0000</td>\n",
       "      <td>40827.0000</td>\n",
       "      <td>47943.0000</td>\n",
       "    </tr>\n",
       "  </tbody>\n",
       "</table>\n",
       "</div>"
      ],
      "text/plain": [
       "             生鮮食品        乳製品        食料品       冷凍食品     洗剤_紙製品         総菜\n",
       "count    440.0000   440.0000   440.0000   440.0000   440.0000   440.0000\n",
       "mean   12000.2977  5796.2659  7951.2773  3071.9318  2881.4932  1524.8705\n",
       "std    12647.3289  7380.3772  9503.1628  4854.6733  4767.8544  2820.1059\n",
       "min        3.0000    55.0000     3.0000    25.0000     3.0000     3.0000\n",
       "25%     3127.7500  1533.0000  2153.0000   742.2500   256.7500   408.2500\n",
       "50%     8504.0000  3627.0000  4755.5000  1526.0000   816.5000   965.5000\n",
       "75%    16933.7500  7190.2500 10655.7500  3554.2500  3922.0000  1820.2500\n",
       "max   112151.0000 73498.0000 92780.0000 60869.0000 40827.0000 47943.0000"
      ]
     },
     "metadata": {},
     "output_type": "display_data"
    }
   ],
   "source": [
    "# stats\n",
    "display(df2.describe())"
   ]
  },
  {
   "cell_type": "code",
   "execution_count": null,
   "metadata": {
    "colab": {},
    "colab_type": "code",
    "id": "U6zUEK9PD3SW"
   },
   "outputs": [],
   "source": []
  }
 ],
 "metadata": {
  "colab": {
   "name": "ch05_07_clustering.ipynb",
   "provenance": []
  },
  "kernelspec": {
   "display_name": "Python 3",
   "language": "python",
   "name": "python3"
  },
  "language_info": {
   "codemirror_mode": {
    "name": "ipython",
    "version": 3
   },
   "file_extension": ".py",
   "mimetype": "text/x-python",
   "name": "python",
   "nbconvert_exporter": "python",
   "pygments_lexer": "ipython3",
   "version": "3.8.12"
  }
 },
 "nbformat": 4,
 "nbformat_minor": 1
}
