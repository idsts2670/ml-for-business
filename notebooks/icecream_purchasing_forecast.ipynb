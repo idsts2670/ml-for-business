{
 "cells": [
  {
   "cell_type": "markdown",
   "metadata": {},
   "source": [
    "# Time series analysis for icecream purchasing forecast"
   ]
  },
  {
   "cell_type": "code",
   "execution_count": 9,
   "metadata": {},
   "outputs": [],
   "source": [
    "# Data Wrangling\n",
    "\n",
    "# disable warnings\n",
    "import warnings\n",
    "warnings.filterwarnings('ignore')\n",
    "\n",
    "# library import\n",
    "import pandas as pd\n",
    "import numpy as np\n",
    "import matplotlib.pyplot as plt\n",
    "import matplotlib.dates as mdates\n",
    "\n",
    "# dataframe display function\n",
    "from IPython.display import display\n",
    "\n",
    "# matplotlib Japanese support\n",
    "import japanize_matplotlib\n",
    "\n",
    "# pandas float display adjustment\n",
    "pd.options.display.float_format = '{:.4f}'.format\n",
    "\n",
    "# show all columns of dataframe\n",
    "pd.set_option('display.max_columns', None)"
   ]
  },
  {
   "cell_type": "markdown",
   "metadata": {},
   "source": [
    "## original data\n",
    "\n",
    "アイスクリーム調査報告書(by 一般社団法人アイスクリーム協会)\n",
    "https://www.icecream.or.jp/biz/data/expenditures.html\n",
    "\n",
    "EXCEL file below was made based on the report's contents"
   ]
  },
  {
   "cell_type": "code",
   "execution_count": 3,
   "metadata": {},
   "outputs": [],
   "source": [
    "# data import\n",
    "url2 = 'https://github.com/makaishi2/sample-data/blob/master/data/ice-sales.xlsx?raw=true'\n",
    "\n",
    "df = pd.read_excel(url2, sheet_name=0)"
   ]
  },
  {
   "cell_type": "code",
   "execution_count": 4,
   "metadata": {},
   "outputs": [
    {
     "data": {
      "text/html": [
       "<div>\n",
       "<style scoped>\n",
       "    .dataframe tbody tr th:only-of-type {\n",
       "        vertical-align: middle;\n",
       "    }\n",
       "\n",
       "    .dataframe tbody tr th {\n",
       "        vertical-align: top;\n",
       "    }\n",
       "\n",
       "    .dataframe thead th {\n",
       "        text-align: right;\n",
       "    }\n",
       "</style>\n",
       "<table border=\"1\" class=\"dataframe\">\n",
       "  <thead>\n",
       "    <tr style=\"text-align: right;\">\n",
       "      <th></th>\n",
       "      <th>年月</th>\n",
       "      <th>支出</th>\n",
       "    </tr>\n",
       "  </thead>\n",
       "  <tbody>\n",
       "    <tr>\n",
       "      <th>0</th>\n",
       "      <td>2015-01-01</td>\n",
       "      <td>401</td>\n",
       "    </tr>\n",
       "    <tr>\n",
       "      <th>1</th>\n",
       "      <td>2015-02-01</td>\n",
       "      <td>345</td>\n",
       "    </tr>\n",
       "    <tr>\n",
       "      <th>2</th>\n",
       "      <td>2015-03-01</td>\n",
       "      <td>480</td>\n",
       "    </tr>\n",
       "    <tr>\n",
       "      <th>3</th>\n",
       "      <td>2015-04-01</td>\n",
       "      <td>590</td>\n",
       "    </tr>\n",
       "    <tr>\n",
       "      <th>4</th>\n",
       "      <td>2015-05-01</td>\n",
       "      <td>928</td>\n",
       "    </tr>\n",
       "  </tbody>\n",
       "</table>\n",
       "</div>"
      ],
      "text/plain": [
       "          年月   支出\n",
       "0 2015-01-01  401\n",
       "1 2015-02-01  345\n",
       "2 2015-03-01  480\n",
       "3 2015-04-01  590\n",
       "4 2015-05-01  928"
      ]
     },
     "metadata": {},
     "output_type": "display_data"
    },
    {
     "data": {
      "text/html": [
       "<div>\n",
       "<style scoped>\n",
       "    .dataframe tbody tr th:only-of-type {\n",
       "        vertical-align: middle;\n",
       "    }\n",
       "\n",
       "    .dataframe tbody tr th {\n",
       "        vertical-align: top;\n",
       "    }\n",
       "\n",
       "    .dataframe thead th {\n",
       "        text-align: right;\n",
       "    }\n",
       "</style>\n",
       "<table border=\"1\" class=\"dataframe\">\n",
       "  <thead>\n",
       "    <tr style=\"text-align: right;\">\n",
       "      <th></th>\n",
       "      <th>年月</th>\n",
       "      <th>支出</th>\n",
       "    </tr>\n",
       "  </thead>\n",
       "  <tbody>\n",
       "    <tr>\n",
       "      <th>55</th>\n",
       "      <td>2019-08-01</td>\n",
       "      <td>1513</td>\n",
       "    </tr>\n",
       "    <tr>\n",
       "      <th>56</th>\n",
       "      <td>2019-09-01</td>\n",
       "      <td>996</td>\n",
       "    </tr>\n",
       "    <tr>\n",
       "      <th>57</th>\n",
       "      <td>2019-10-01</td>\n",
       "      <td>724</td>\n",
       "    </tr>\n",
       "    <tr>\n",
       "      <th>58</th>\n",
       "      <td>2019-11-01</td>\n",
       "      <td>531</td>\n",
       "    </tr>\n",
       "    <tr>\n",
       "      <th>59</th>\n",
       "      <td>2019-12-01</td>\n",
       "      <td>584</td>\n",
       "    </tr>\n",
       "  </tbody>\n",
       "</table>\n",
       "</div>"
      ],
      "text/plain": [
       "           年月    支出\n",
       "55 2019-08-01  1513\n",
       "56 2019-09-01   996\n",
       "57 2019-10-01   724\n",
       "58 2019-11-01   531\n",
       "59 2019-12-01   584"
      ]
     },
     "metadata": {},
     "output_type": "display_data"
    }
   ],
   "source": [
    "# data verification\n",
    "display(df.head())\n",
    "display(df.tail())"
   ]
  },
  {
   "cell_type": "code",
   "execution_count": 1,
   "metadata": {},
   "outputs": [
    {
     "ename": "NameError",
     "evalue": "name 'plt' is not defined",
     "output_type": "error",
     "traceback": [
      "\u001b[0;31m---------------------------------------------------------------------------\u001b[0m",
      "\u001b[0;31mNameError\u001b[0m                                 Traceback (most recent call last)",
      "\u001b[1;32mセル6 を /Users/satoshiido/Documents/coding_general/ml-for-business/notebooks/icecream_purchasing_forecast.ipynb\u001b[0m in \u001b[0;36m<cell line: 2>\u001b[0;34m()\u001b[0m\n\u001b[1;32m      <a href='vscode-notebook-cell:/Users/satoshiido/Documents/coding_general/ml-for-business/notebooks/icecream_purchasing_forecast.ipynb#W5sZmlsZQ%3D%3D?line=0'>1</a>\u001b[0m \u001b[39m# plot the time-series graph (expenditure for icecream)\u001b[39;00m\n\u001b[0;32m----> <a href='vscode-notebook-cell:/Users/satoshiido/Documents/coding_general/ml-for-business/notebooks/icecream_purchasing_forecast.ipynb#W5sZmlsZQ%3D%3D?line=1'>2</a>\u001b[0m fig, ax \u001b[39m=\u001b[39m plt\u001b[39m.\u001b[39msubplots(figsize \u001b[39m=\u001b[39m (\u001b[39m12\u001b[39m, \u001b[39m4\u001b[39m))\n\u001b[1;32m      <a href='vscode-notebook-cell:/Users/satoshiido/Documents/coding_general/ml-for-business/notebooks/icecream_purchasing_forecast.ipynb#W5sZmlsZQ%3D%3D?line=3'>4</a>\u001b[0m \u001b[39m# graph plot\u001b[39;00m\n\u001b[1;32m      <a href='vscode-notebook-cell:/Users/satoshiido/Documents/coding_general/ml-for-business/notebooks/icecream_purchasing_forecast.ipynb#W5sZmlsZQ%3D%3D?line=4'>5</a>\u001b[0m ax\u001b[39m.\u001b[39mplot(df[\u001b[39m'\u001b[39m\u001b[39m年月\u001b[39m\u001b[39m'\u001b[39m], df[\u001b[39m'\u001b[39m\u001b[39m支出\u001b[39m\u001b[39m'\u001b[39m], c \u001b[39m=\u001b[39m \u001b[39m'\u001b[39m\u001b[39mb\u001b[39m\u001b[39m'\u001b[39m)\n",
      "\u001b[0;31mNameError\u001b[0m: name 'plt' is not defined"
     ]
    }
   ],
   "source": [
    "# plot the time-series graph (expenditure for icecream)\n",
    "fig, ax = plt.subplots(figsize = (12, 4))\n",
    "\n",
    "# graph plot\n",
    "ax.plot(df['年月'], df['支出'], c = 'b')\n",
    "\n",
    "# graph memory for 3-month periods\n",
    "month3 = mdates.MonthLocator(interval = 3)\n",
    "ax.xaxis.set_major_locator(month3)\n",
    "\n",
    "# rotation\n",
    "ax.tick_params(axis = 'x', rotation = 90)\n",
    "\n",
    "# start date and end date\n",
    "sday = pd.to_datetime('2015-1-1')\n",
    "eday = pd.to_datetime('2019-12-31')\n",
    "ax.set_xlim(sday, eday)\n",
    "\n",
    "# graph paper\n",
    "ax.set_title('アイスクリーム支出金額')\n",
    "ax.grid()\n",
    "\n",
    "# plot\n",
    "plt.show()"
   ]
  },
  {
   "cell_type": "markdown",
   "metadata": {},
   "source": [
    "### data pre-processing"
   ]
  },
  {
   "cell_type": "code",
   "execution_count": 10,
   "metadata": {},
   "outputs": [
    {
     "data": {
      "text/html": [
       "<div>\n",
       "<style scoped>\n",
       "    .dataframe tbody tr th:only-of-type {\n",
       "        vertical-align: middle;\n",
       "    }\n",
       "\n",
       "    .dataframe tbody tr th {\n",
       "        vertical-align: top;\n",
       "    }\n",
       "\n",
       "    .dataframe thead th {\n",
       "        text-align: right;\n",
       "    }\n",
       "</style>\n",
       "<table border=\"1\" class=\"dataframe\">\n",
       "  <thead>\n",
       "    <tr style=\"text-align: right;\">\n",
       "      <th></th>\n",
       "      <th>ds</th>\n",
       "      <th>y</th>\n",
       "    </tr>\n",
       "  </thead>\n",
       "  <tbody>\n",
       "    <tr>\n",
       "      <th>0</th>\n",
       "      <td>2015-01-01</td>\n",
       "      <td>401</td>\n",
       "    </tr>\n",
       "    <tr>\n",
       "      <th>1</th>\n",
       "      <td>2015-02-01</td>\n",
       "      <td>345</td>\n",
       "    </tr>\n",
       "    <tr>\n",
       "      <th>2</th>\n",
       "      <td>2015-03-01</td>\n",
       "      <td>480</td>\n",
       "    </tr>\n",
       "    <tr>\n",
       "      <th>3</th>\n",
       "      <td>2015-04-01</td>\n",
       "      <td>590</td>\n",
       "    </tr>\n",
       "    <tr>\n",
       "      <th>4</th>\n",
       "      <td>2015-05-01</td>\n",
       "      <td>928</td>\n",
       "    </tr>\n",
       "  </tbody>\n",
       "</table>\n",
       "</div>"
      ],
      "text/plain": [
       "          ds    y\n",
       "0 2015-01-01  401\n",
       "1 2015-02-01  345\n",
       "2 2015-03-01  480\n",
       "3 2015-04-01  590\n",
       "4 2015-05-01  928"
      ]
     },
     "metadata": {},
     "output_type": "display_data"
    }
   ],
   "source": [
    "# data frame for prophet\n",
    "x = df.copy()\n",
    "x.columns = ['ds', 'y']\n",
    "display(x.head())"
   ]
  },
  {
   "cell_type": "code",
   "execution_count": 18,
   "metadata": {},
   "outputs": [],
   "source": [
    "# data split\n",
    "# set reference date as train data and test data\n",
    "mday = pd.to_datetime('2019-1-1')\n",
    "\n",
    "# index for both train and test data\n",
    "train_index = x['ds'] < mday\n",
    "test_index = x['ds'] >= mday\n",
    "\n",
    "# input data split\n",
    "x_train = x[train_index]\n",
    "x_test = x[test_index]\n",
    "\n",
    "# split data string\n",
    "dates_train = x['ds'][train_index]\n",
    "dates_test = x['ds'][test_index]\n"
   ]
  },
  {
   "cell_type": "markdown",
   "metadata": {},
   "source": [
    "### algorithm selection and learning"
   ]
  },
  {
   "cell_type": "code",
   "execution_count": 13,
   "metadata": {},
   "outputs": [],
   "source": [
    "# library\n",
    "from fbprophet import Prophet\n",
    "m = Prophet(yearly_seasonality = 5, weekly_seasonality = False, daily_seasonality = False)"
   ]
  },
  {
   "cell_type": "code",
   "execution_count": 15,
   "metadata": {},
   "outputs": [
    {
     "name": "stdout",
     "output_type": "stream",
     "text": [
      "\n",
      "Initial log joint probability = -28.035\n",
      "Iteration  1. Log joint probability =    30.8842. Improved by 58.9192.\n",
      "Iteration  2. Log joint probability =    73.3443. Improved by 42.4601.\n",
      "Iteration  3. Log joint probability =    103.653. Improved by 30.3083.\n",
      "Iteration  4. Log joint probability =    137.548. Improved by 33.8958.\n",
      "Iteration  5. Log joint probability =    153.766. Improved by 16.2175.\n",
      "Iteration  6. Log joint probability =    155.013. Improved by 1.2472.\n",
      "Iteration  7. Log joint probability =    155.322. Improved by 0.309118.\n",
      "Iteration  8. Log joint probability =    155.383. Improved by 0.0610988.\n",
      "Iteration  9. Log joint probability =    155.392. Improved by 0.00880654.\n",
      "Iteration 10. Log joint probability =    155.411. Improved by 0.0185315.\n",
      "Iteration 11. Log joint probability =    155.421. Improved by 0.0106114.\n",
      "Iteration 12. Log joint probability =    155.426. Improved by 0.00496486.\n",
      "Iteration 13. Log joint probability =    155.428. Improved by 0.0014576.\n",
      "Iteration 14. Log joint probability =    155.432. Improved by 0.00418936.\n",
      "Iteration 15. Log joint probability =    155.438. Improved by 0.00611673.\n",
      "Iteration 16. Log joint probability =     155.44. Improved by 0.00194729.\n",
      "Iteration 17. Log joint probability =    155.441. Improved by 0.00100859.\n",
      "Iteration 18. Log joint probability =    155.441. Improved by 0.00015972.\n",
      "Iteration 19. Log joint probability =    155.444. Improved by 0.00303849.\n",
      "Iteration 20. Log joint probability =    155.447. Improved by 0.00324098.\n",
      "Iteration 21. Log joint probability =    155.449. Improved by 0.00139094.\n",
      "Iteration 22. Log joint probability =     155.45. Improved by 0.00063535.\n",
      "Iteration 23. Log joint probability =     155.45. Improved by 2.21607e-05.\n",
      "Iteration 24. Log joint probability =     155.45. Improved by 0.000371344.\n",
      "Iteration 25. Log joint probability =     155.45. Improved by 0.00032295.\n",
      "Iteration 26. Log joint probability =     155.45. Improved by 0.000276371.\n",
      "Iteration 27. Log joint probability =    155.451. Improved by 0.000264065.\n",
      "Iteration 28. Log joint probability =    155.451. Improved by 3.68098e-05.\n",
      "Iteration 29. Log joint probability =    155.451. Improved by 0.000600862.\n",
      "Iteration 30. Log joint probability =    155.452. Improved by 0.000644063.\n",
      "Iteration 31. Log joint probability =    155.452. Improved by 0.000285293.\n",
      "Iteration 32. Log joint probability =    155.453. Improved by 0.000395476.\n",
      "Iteration 33. Log joint probability =    155.453. Improved by 0.000111649.\n",
      "Iteration 34. Log joint probability =    155.453. Improved by 1.09033e-05.\n",
      "Iteration 35. Log joint probability =    155.453. Improved by 0.000225519.\n",
      "Iteration 36. Log joint probability =    155.453. Improved by 0.000127495.\n",
      "Iteration 37. Log joint probability =    155.453. Improved by 8.39648e-05.\n",
      "Iteration 38. Log joint probability =    155.453. Improved by 2.10073e-05.\n",
      "Iteration 39. Log joint probability =    155.453. Improved by 0.0001272.\n",
      "Iteration 40. Log joint probability =    155.453. Improved by 3.98727e-05.\n",
      "Iteration 41. Log joint probability =    155.453. Improved by 4.35814e-06.\n",
      "Iteration 42. Log joint probability =    155.454. Improved by 2.5085e-05.\n",
      "Iteration 43. Log joint probability =    155.454. Improved by 2.17487e-05.\n",
      "Iteration 44. Log joint probability =    155.454. Improved by 8.48043e-06.\n",
      "Iteration 45. Log joint probability =    155.454. Improved by 3.3802e-06.\n",
      "Iteration 46. Log joint probability =    155.454. Improved by 5.0623e-06.\n",
      "Iteration 47. Log joint probability =    155.454. Improved by 4.48867e-06.\n",
      "Iteration 48. Log joint probability =    155.454. Improved by 9.89633e-06.\n",
      "Iteration 49. Log joint probability =    155.454. Improved by 1.11003e-05.\n",
      "Iteration 50. Log joint probability =    155.454. Improved by 4.29536e-06.\n",
      "Iteration 51. Log joint probability =    155.454. Improved by 1.00053e-06.\n",
      "Iteration 52. Log joint probability =    155.454. Improved by 5.12389e-07.\n",
      "Iteration 53. Log joint probability =    155.454. Improved by 8.81794e-06.\n",
      "Iteration 54. Log joint probability =    155.454. Improved by 8.97677e-07.\n",
      "Iteration 55. Log joint probability =    155.454. Improved by 4.88369e-06.\n",
      "Iteration 56. Log joint probability =    155.454. Improved by 2.80066e-06.\n",
      "Iteration 57. Log joint probability =    155.454. Improved by 1.70518e-06.\n",
      "Iteration 58. Log joint probability =    155.454. Improved by 7.98717e-07.\n",
      "Iteration 59. Log joint probability =    155.454. Improved by 2.4951e-07.\n",
      "Iteration 60. Log joint probability =    155.454. Improved by 2.40187e-07.\n",
      "Iteration 61. Log joint probability =    155.454. Improved by 1.67474e-07.\n",
      "Iteration 62. Log joint probability =    155.454. Improved by 3.95614e-08.\n",
      "Iteration 63. Log joint probability =    155.454. Improved by 9.24297e-08.\n",
      "Iteration 64. Log joint probability =    155.454. Improved by 2.07891e-09.\n"
     ]
    }
   ],
   "source": [
    "# learning\n",
    "m = m.fit(x_train)"
   ]
  },
  {
   "cell_type": "markdown",
   "metadata": {},
   "source": [
    "### prediction"
   ]
  },
  {
   "cell_type": "code",
   "execution_count": 16,
   "metadata": {},
   "outputs": [],
   "source": [
    "# prediction\n",
    "future = x[['ds']]\n",
    "fcst = m.predict(future)"
   ]
  },
  {
   "cell_type": "markdown",
   "metadata": {},
   "source": [
    "### evaluation"
   ]
  },
  {
   "cell_type": "code",
   "execution_count": 17,
   "metadata": {},
   "outputs": [
    {
     "name": "stdout",
     "output_type": "stream",
     "text": [
      "R2 score:0.9566\n"
     ]
    }
   ],
   "source": [
    "# evaluation\n",
    "\n",
    "# extract predicted part from fcst\n",
    "ypred = fcst[-12:]['yhat'].values\n",
    "\n",
    "# correct data list\n",
    "ytest = x_test['y'].values\n",
    "\n",
    "# R^2 calculation\n",
    "from sklearn.metrics import r2_score\n",
    "score = r2_score(ytest, ypred)\n",
    "score_text = f'R2 score:{score:.4f}'\n",
    "print(score_text)"
   ]
  },
  {
   "cell_type": "markdown",
   "metadata": {},
   "source": [
    "### graph plot"
   ]
  },
  {
   "cell_type": "code",
   "execution_count": 20,
   "metadata": {},
   "outputs": [
    {
     "data": {
      "image/png": "[encoded data removed]",
      "text/plain": [
       "<Figure size 576x288 with 1 Axes>"
      ]
     },
     "metadata": {
      "needs_background": "light"
     },
     "output_type": "display_data"
    }
   ],
   "source": [
    "# timeseries graph (expenditure for icecream)\n",
    "fig, ax = plt.subplots(figsize = (8, 4))\n",
    "\n",
    "# graph plot\n",
    "ax.plot(dates_test, ytest, label = '正解データ', c = 'k')\n",
    "ax.plot(dates_test, ypred, label = '予測結果', c = 'b')\n",
    "\n",
    "# set graph scale interval as 1 month\n",
    "month = mdates.MonthLocator()\n",
    "ax.xaxis.set_major_locator(month)\n",
    "\n",
    "# rotation\n",
    "ax.tick_params(axis = 'x', rotation = 90)\n",
    "\n",
    "# start-date and end-date\n",
    "sday = pd.to_datetime('2019-1-1')\n",
    "eday = pd.to_datetime('2019-12-1')\n",
    "ax.set_xlim(sday, eday)\n",
    "\n",
    "# graph paper\n",
    "ax.grid()\n",
    "ax.legend()\n",
    "ax.set_title('アイスクリーム支出金額予測 ' + score_text)\n",
    "\n",
    "# plot show\n",
    "plt.show()"
   ]
  },
  {
   "cell_type": "code",
   "execution_count": null,
   "metadata": {},
   "outputs": [],
   "source": []
  }
 ],
 "metadata": {
  "interpreter": {
   "hash": "c919f66377084bbe5264acaad3227a0b6e2b7b31c717b6c23ee3b90ae87f6f0d"
  },
  "kernelspec": {
   "display_name": "Python 3.8.12 ('python38')",
   "language": "python",
   "name": "python3"
  },
  "language_info": {
   "codemirror_mode": {
    "name": "ipython",
    "version": 3
   },
   "file_extension": ".py",
   "mimetype": "text/x-python",
   "name": "python",
   "nbconvert_exporter": "python",
   "pygments_lexer": "ipython3",
   "version": "3.8.13"
  },
  "orig_nbformat": 4
 },
 "nbformat": 4,
 "nbformat_minor": 2
}
